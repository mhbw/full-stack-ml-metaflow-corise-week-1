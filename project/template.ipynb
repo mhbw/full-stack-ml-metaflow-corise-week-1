{
 "cells": [
  {
   "cell_type": "markdown",
   "metadata": {},
   "source": [
    "# Welcome to Full Stack Machine Learning's Week 1 Project!\n",
    "\n",
    "Welcome to an exhilarating journey into the world of machine learning! This week, you're stepping into the shoes of a data scientist at ModaMetric, an eCommerce startup specializing in bespoke women's fashion. \n",
    "\n",
    "## The ModaMetric Journey\n",
    "\n",
    "ModaMetric is a budding star in the eCommerce landscape, gaining rapid popularity among customers for its unique and stylish fashion offerings. However, they've faced a bottleneck: understanding their customers' sentiments from the ocean of reviews and feedback they receive daily. Your role as a member of ModaMetric's data science team is pivotal in solving this issue. Your mission? To implement an effective sentiment analysis model that can sift through the plethora of customer reviews and provide actionable insights.\n",
    "\n",
    "## Your Role: A Pioneer Data Scientist at ModaMetric\n",
    "\n",
    "As ModaMetric's newly onboarded data scientist, you're entrusted with an exciting challenge. The data science team, still in its infancy, has primarily focused on metrics and analytics that provide surface-level insights. They've yet to delve into the rich, unstructured data residing in customer reviews. And that's where you step in. Your job is to design and implement a machine learning pipeline using Metaflow capable of performing sentiment analysis on the customer reviews.\n",
    " \n",
    "\n",
    "### Using GitHub\n",
    "\n",
    "To complete the assignment:\n",
    "1. Fill in the TODO sections of this notebook.\n",
    "2. Push the results to your `full-stack-ml-metaflow-corise-week-1` repository.\n",
    "3. Create a link to the repository in Corise.\n"
   ]
  },
  {
   "cell_type": "markdown",
   "metadata": {},
   "source": [
    "## Task 1. EDA"
   ]
  },
  {
   "cell_type": "markdown",
   "metadata": {},
   "source": [
    "You're starting with a [Women's Ecommerce Clothing Reviews Dataset from Kaggle](https://www.kaggle.com/datasets/nicapotato/womens-ecommerce-clothing-reviews). This dataset closely mirrors the data that ModaMetric gathers. Your first task involves understanding the structure, variables, and potential quirks of this dataset. Remember, knowing your data is the first step in any data science project!\n",
    "\n",
    "Exploratory Data Analysis (EDA) is a critical step in the data science pipeline as it allows us to gain insights and identify patterns within the data. In this section, we will be performing EDA on the Women's Clothing E-Commerce dataset, which contains reviews written by customers. Through this process, we will be looking out for trends, anomalies, and outliers that can help us better understand the data and inform our decision-making in subsequent stages of the project. By performing EDA, we will be able to identify potential issues with the dataset and make necessary corrections before proceeding to the model building phase.\n",
    "\n",
    "Suggestion: Spend 1-2 hours on this section."
   ]
  },
  {
   "cell_type": "markdown",
   "metadata": {},
   "source": [
    "### Import Dependencies\n",
    "You can change these if you wish! \n",
    "These packages are already installed in the `full-stack-metaflow-corise` environment. \n",
    "If you are feeling adventurous, you can install other packages you want in the conda environment too, or even make your own environment from scratch and include with your submission! "
   ]
  },
  {
   "cell_type": "code",
   "execution_count": 1,
   "metadata": {},
   "outputs": [],
   "source": [
    "from collections import Counter\n",
    "import pandas as pd\n",
    "import numpy as np\n",
    "from termcolor import colored\n",
    "import matplotlib.pyplot as plt\n",
    "import seaborn as sns\n",
    "import string\n",
    "import nltk"
   ]
  },
  {
   "cell_type": "markdown",
   "metadata": {},
   "source": [
    "### Configure plots\n",
    "This part is optional styling your plots and cards."
   ]
  },
  {
   "cell_type": "code",
   "execution_count": 2,
   "metadata": {},
   "outputs": [],
   "source": [
    "YELLOW = \"#FFBC00\"\n",
    "GREEN = \"#37795D\"\n",
    "PURPLE = \"#5460C0\"\n",
    "BACKGROUND = \"#F4EBE6\"\n",
    "colors = [GREEN, PURPLE]\n",
    "custom_params = {\n",
    "    \"axes.spines.right\": False,\n",
    "    \"axes.spines.top\": False,\n",
    "    \"axes.facecolor\": BACKGROUND,\n",
    "    \"figure.facecolor\": BACKGROUND,\n",
    "    \"figure.figsize\": (8, 8),\n",
    "}\n",
    "sns_palette = sns.color_palette(colors, len(colors))\n",
    "sns.set_theme(style=\"ticks\", rc=custom_params)"
   ]
  },
  {
   "cell_type": "markdown",
   "metadata": {},
   "source": [
    "### Load the data "
   ]
  },
  {
   "cell_type": "code",
   "execution_count": 4,
   "metadata": {},
   "outputs": [],
   "source": [
    "# TODO: Load the dataset, ensure to use index_col=0 when reading the CSV file.\n",
    "# Hints\n",
    "# Look in the ../../data directory of this worksapce.\n",
    "# If you use pandas think about the index_col arg 🧐\n",
    "df = pd.read_csv(\"../data/Womens Clothing E-Commerce Reviews.csv\", index_col=0)\n",
    "\n",
    "\n",
    "# light data cleaning\n",
    "df.columns = [\"_\".join(name.lower().strip().split()) for name in df.columns]\n",
    "df[\"review_text\"] = df[\"review_text\"].astype(\"str\")"
   ]
  },
  {
   "cell_type": "code",
   "execution_count": 5,
   "metadata": {},
   "outputs": [
    {
     "name": "stdout",
     "output_type": "stream",
     "text": [
      "<class 'pandas.core.frame.DataFrame'>\n",
      "Int64Index: 23486 entries, 0 to 23485\n",
      "Data columns (total 10 columns):\n",
      " #   Column                   Non-Null Count  Dtype \n",
      "---  ------                   --------------  ----- \n",
      " 0   clothing_id              23486 non-null  int64 \n",
      " 1   age                      23486 non-null  int64 \n",
      " 2   title                    19676 non-null  object\n",
      " 3   review_text              23486 non-null  object\n",
      " 4   rating                   23486 non-null  int64 \n",
      " 5   recommended_ind          23486 non-null  int64 \n",
      " 6   positive_feedback_count  23486 non-null  int64 \n",
      " 7   division_name            23472 non-null  object\n",
      " 8   department_name          23472 non-null  object\n",
      " 9   class_name               23472 non-null  object\n",
      "dtypes: int64(5), object(5)\n",
      "memory usage: 2.0+ MB\n"
     ]
    }
   ],
   "source": [
    "df.info()"
   ]
  },
  {
   "cell_type": "code",
   "execution_count": 6,
   "metadata": {},
   "outputs": [
    {
     "data": {
      "text/html": [
       "<div>\n",
       "<style scoped>\n",
       "    .dataframe tbody tr th:only-of-type {\n",
       "        vertical-align: middle;\n",
       "    }\n",
       "\n",
       "    .dataframe tbody tr th {\n",
       "        vertical-align: top;\n",
       "    }\n",
       "\n",
       "    .dataframe thead th {\n",
       "        text-align: right;\n",
       "    }\n",
       "</style>\n",
       "<table border=\"1\" class=\"dataframe\">\n",
       "  <thead>\n",
       "    <tr style=\"text-align: right;\">\n",
       "      <th></th>\n",
       "      <th>clothing_id</th>\n",
       "      <th>age</th>\n",
       "      <th>rating</th>\n",
       "      <th>recommended_ind</th>\n",
       "      <th>positive_feedback_count</th>\n",
       "    </tr>\n",
       "  </thead>\n",
       "  <tbody>\n",
       "    <tr>\n",
       "      <th>count</th>\n",
       "      <td>23486.000000</td>\n",
       "      <td>23486.000000</td>\n",
       "      <td>23486.000000</td>\n",
       "      <td>23486.000000</td>\n",
       "      <td>23486.000000</td>\n",
       "    </tr>\n",
       "    <tr>\n",
       "      <th>mean</th>\n",
       "      <td>918.118709</td>\n",
       "      <td>43.198544</td>\n",
       "      <td>4.196032</td>\n",
       "      <td>0.822362</td>\n",
       "      <td>2.535936</td>\n",
       "    </tr>\n",
       "    <tr>\n",
       "      <th>std</th>\n",
       "      <td>203.298980</td>\n",
       "      <td>12.279544</td>\n",
       "      <td>1.110031</td>\n",
       "      <td>0.382216</td>\n",
       "      <td>5.702202</td>\n",
       "    </tr>\n",
       "    <tr>\n",
       "      <th>min</th>\n",
       "      <td>0.000000</td>\n",
       "      <td>18.000000</td>\n",
       "      <td>1.000000</td>\n",
       "      <td>0.000000</td>\n",
       "      <td>0.000000</td>\n",
       "    </tr>\n",
       "    <tr>\n",
       "      <th>25%</th>\n",
       "      <td>861.000000</td>\n",
       "      <td>34.000000</td>\n",
       "      <td>4.000000</td>\n",
       "      <td>1.000000</td>\n",
       "      <td>0.000000</td>\n",
       "    </tr>\n",
       "    <tr>\n",
       "      <th>50%</th>\n",
       "      <td>936.000000</td>\n",
       "      <td>41.000000</td>\n",
       "      <td>5.000000</td>\n",
       "      <td>1.000000</td>\n",
       "      <td>1.000000</td>\n",
       "    </tr>\n",
       "    <tr>\n",
       "      <th>75%</th>\n",
       "      <td>1078.000000</td>\n",
       "      <td>52.000000</td>\n",
       "      <td>5.000000</td>\n",
       "      <td>1.000000</td>\n",
       "      <td>3.000000</td>\n",
       "    </tr>\n",
       "    <tr>\n",
       "      <th>max</th>\n",
       "      <td>1205.000000</td>\n",
       "      <td>99.000000</td>\n",
       "      <td>5.000000</td>\n",
       "      <td>1.000000</td>\n",
       "      <td>122.000000</td>\n",
       "    </tr>\n",
       "  </tbody>\n",
       "</table>\n",
       "</div>"
      ],
      "text/plain": [
       "        clothing_id           age        rating  recommended_ind  \\\n",
       "count  23486.000000  23486.000000  23486.000000     23486.000000   \n",
       "mean     918.118709     43.198544      4.196032         0.822362   \n",
       "std      203.298980     12.279544      1.110031         0.382216   \n",
       "min        0.000000     18.000000      1.000000         0.000000   \n",
       "25%      861.000000     34.000000      4.000000         1.000000   \n",
       "50%      936.000000     41.000000      5.000000         1.000000   \n",
       "75%     1078.000000     52.000000      5.000000         1.000000   \n",
       "max     1205.000000     99.000000      5.000000         1.000000   \n",
       "\n",
       "       positive_feedback_count  \n",
       "count             23486.000000  \n",
       "mean                  2.535936  \n",
       "std                   5.702202  \n",
       "min                   0.000000  \n",
       "25%                   0.000000  \n",
       "50%                   1.000000  \n",
       "75%                   3.000000  \n",
       "max                 122.000000  "
      ]
     },
     "execution_count": 6,
     "metadata": {},
     "output_type": "execute_result"
    }
   ],
   "source": [
    "df.describe()"
   ]
  },
  {
   "cell_type": "markdown",
   "metadata": {},
   "source": [
    "### Plot the distribution of [1, 5] ratings\n",
    "\n",
    "We will be using the `rating` to create a label on this dataset. We can see that the mean rating is above 4, pretty happy customers!\n",
    "\n",
    "Let's try to visualise the distrbution of the label. "
   ]
  },
  {
   "cell_type": "code",
   "execution_count": 7,
   "metadata": {},
   "outputs": [
    {
     "ename": "ValueError",
     "evalue": "shape mismatch: objects cannot be broadcast to a single shape.  Mismatch is between arg 0 with shape (5,) and arg 1 with shape (5, 10).",
     "output_type": "error",
     "traceback": [
      "\u001b[0;31m---------------------------------------------------------------------------\u001b[0m",
      "\u001b[0;31mValueError\u001b[0m                                Traceback (most recent call last)",
      "Cell \u001b[0;32mIn[7], line 5\u001b[0m\n\u001b[1;32m      3\u001b[0m fig, ax \u001b[39m=\u001b[39m plt\u001b[39m.\u001b[39msubplots(\u001b[39m1\u001b[39m, \u001b[39m1\u001b[39m, figsize\u001b[39m=\u001b[39m(\u001b[39m5\u001b[39m, \u001b[39m5\u001b[39m))\n\u001b[1;32m      4\u001b[0m \u001b[39m# You can swap the color used with the defined constants at the top of the notebook\u001b[39;00m\n\u001b[0;32m----> 5\u001b[0m ax\u001b[39m.\u001b[39;49mbar(x\u001b[39m=\u001b[39;49mrating_distribution\u001b[39m.\u001b[39;49mindex, height\u001b[39m=\u001b[39;49mrating_distribution\u001b[39m.\u001b[39;49mvalues, color\u001b[39m=\u001b[39;49mGREEN)\n",
      "File \u001b[0;32m~/mambaforge/envs/full-stack-metaflow-corise/lib/python3.10/site-packages/matplotlib/__init__.py:1412\u001b[0m, in \u001b[0;36m_preprocess_data.<locals>.inner\u001b[0;34m(ax, data, *args, **kwargs)\u001b[0m\n\u001b[1;32m   1409\u001b[0m \u001b[39m@functools\u001b[39m\u001b[39m.\u001b[39mwraps(func)\n\u001b[1;32m   1410\u001b[0m \u001b[39mdef\u001b[39;00m \u001b[39minner\u001b[39m(ax, \u001b[39m*\u001b[39margs, data\u001b[39m=\u001b[39m\u001b[39mNone\u001b[39;00m, \u001b[39m*\u001b[39m\u001b[39m*\u001b[39mkwargs):\n\u001b[1;32m   1411\u001b[0m     \u001b[39mif\u001b[39;00m data \u001b[39mis\u001b[39;00m \u001b[39mNone\u001b[39;00m:\n\u001b[0;32m-> 1412\u001b[0m         \u001b[39mreturn\u001b[39;00m func(ax, \u001b[39m*\u001b[39;49m\u001b[39mmap\u001b[39;49m(sanitize_sequence, args), \u001b[39m*\u001b[39;49m\u001b[39m*\u001b[39;49mkwargs)\n\u001b[1;32m   1414\u001b[0m     bound \u001b[39m=\u001b[39m new_sig\u001b[39m.\u001b[39mbind(ax, \u001b[39m*\u001b[39margs, \u001b[39m*\u001b[39m\u001b[39m*\u001b[39mkwargs)\n\u001b[1;32m   1415\u001b[0m     auto_label \u001b[39m=\u001b[39m (bound\u001b[39m.\u001b[39marguments\u001b[39m.\u001b[39mget(label_namer)\n\u001b[1;32m   1416\u001b[0m                   \u001b[39mor\u001b[39;00m bound\u001b[39m.\u001b[39mkwargs\u001b[39m.\u001b[39mget(label_namer))\n",
      "File \u001b[0;32m~/mambaforge/envs/full-stack-metaflow-corise/lib/python3.10/site-packages/matplotlib/axes/_axes.py:2342\u001b[0m, in \u001b[0;36mAxes.bar\u001b[0;34m(self, x, height, width, bottom, align, **kwargs)\u001b[0m\n\u001b[1;32m   2339\u001b[0m     \u001b[39mif\u001b[39;00m yerr \u001b[39mis\u001b[39;00m \u001b[39mnot\u001b[39;00m \u001b[39mNone\u001b[39;00m:\n\u001b[1;32m   2340\u001b[0m         yerr \u001b[39m=\u001b[39m \u001b[39mself\u001b[39m\u001b[39m.\u001b[39m_convert_dx(yerr, y0, y, \u001b[39mself\u001b[39m\u001b[39m.\u001b[39mconvert_yunits)\n\u001b[0;32m-> 2342\u001b[0m x, height, width, y, linewidth, hatch \u001b[39m=\u001b[39m np\u001b[39m.\u001b[39;49mbroadcast_arrays(\n\u001b[1;32m   2343\u001b[0m     \u001b[39m# Make args iterable too.\u001b[39;49;00m\n\u001b[1;32m   2344\u001b[0m     np\u001b[39m.\u001b[39;49matleast_1d(x), height, width, y, linewidth, hatch)\n\u001b[1;32m   2346\u001b[0m \u001b[39m# Now that units have been converted, set the tick locations.\u001b[39;00m\n\u001b[1;32m   2347\u001b[0m \u001b[39mif\u001b[39;00m orientation \u001b[39m==\u001b[39m \u001b[39m'\u001b[39m\u001b[39mvertical\u001b[39m\u001b[39m'\u001b[39m:\n",
      "File \u001b[0;32m<__array_function__ internals>:180\u001b[0m, in \u001b[0;36mbroadcast_arrays\u001b[0;34m(*args, **kwargs)\u001b[0m\n",
      "File \u001b[0;32m~/mambaforge/envs/full-stack-metaflow-corise/lib/python3.10/site-packages/numpy/lib/stride_tricks.py:540\u001b[0m, in \u001b[0;36mbroadcast_arrays\u001b[0;34m(subok, *args)\u001b[0m\n\u001b[1;32m    533\u001b[0m \u001b[39m# nditer is not used here to avoid the limit of 32 arrays.\u001b[39;00m\n\u001b[1;32m    534\u001b[0m \u001b[39m# Otherwise, something like the following one-liner would suffice:\u001b[39;00m\n\u001b[1;32m    535\u001b[0m \u001b[39m# return np.nditer(args, flags=['multi_index', 'zerosize_ok'],\u001b[39;00m\n\u001b[1;32m    536\u001b[0m \u001b[39m#                  order='C').itviews\u001b[39;00m\n\u001b[1;32m    538\u001b[0m args \u001b[39m=\u001b[39m [np\u001b[39m.\u001b[39marray(_m, copy\u001b[39m=\u001b[39m\u001b[39mFalse\u001b[39;00m, subok\u001b[39m=\u001b[39msubok) \u001b[39mfor\u001b[39;00m _m \u001b[39min\u001b[39;00m args]\n\u001b[0;32m--> 540\u001b[0m shape \u001b[39m=\u001b[39m _broadcast_shape(\u001b[39m*\u001b[39;49margs)\n\u001b[1;32m    542\u001b[0m \u001b[39mif\u001b[39;00m \u001b[39mall\u001b[39m(array\u001b[39m.\u001b[39mshape \u001b[39m==\u001b[39m shape \u001b[39mfor\u001b[39;00m array \u001b[39min\u001b[39;00m args):\n\u001b[1;32m    543\u001b[0m     \u001b[39m# Common case where nothing needs to be broadcasted.\u001b[39;00m\n\u001b[1;32m    544\u001b[0m     \u001b[39mreturn\u001b[39;00m args\n",
      "File \u001b[0;32m~/mambaforge/envs/full-stack-metaflow-corise/lib/python3.10/site-packages/numpy/lib/stride_tricks.py:422\u001b[0m, in \u001b[0;36m_broadcast_shape\u001b[0;34m(*args)\u001b[0m\n\u001b[1;32m    417\u001b[0m \u001b[39m\u001b[39m\u001b[39m\"\"\"Returns the shape of the arrays that would result from broadcasting the\u001b[39;00m\n\u001b[1;32m    418\u001b[0m \u001b[39msupplied arrays against each other.\u001b[39;00m\n\u001b[1;32m    419\u001b[0m \u001b[39m\"\"\"\u001b[39;00m\n\u001b[1;32m    420\u001b[0m \u001b[39m# use the old-iterator because np.nditer does not handle size 0 arrays\u001b[39;00m\n\u001b[1;32m    421\u001b[0m \u001b[39m# consistently\u001b[39;00m\n\u001b[0;32m--> 422\u001b[0m b \u001b[39m=\u001b[39m np\u001b[39m.\u001b[39;49mbroadcast(\u001b[39m*\u001b[39;49margs[:\u001b[39m32\u001b[39;49m])\n\u001b[1;32m    423\u001b[0m \u001b[39m# unfortunately, it cannot handle 32 or more arguments directly\u001b[39;00m\n\u001b[1;32m    424\u001b[0m \u001b[39mfor\u001b[39;00m pos \u001b[39min\u001b[39;00m \u001b[39mrange\u001b[39m(\u001b[39m32\u001b[39m, \u001b[39mlen\u001b[39m(args), \u001b[39m31\u001b[39m):\n\u001b[1;32m    425\u001b[0m     \u001b[39m# ironically, np.broadcast does not properly handle np.broadcast\u001b[39;00m\n\u001b[1;32m    426\u001b[0m     \u001b[39m# objects (it treats them as scalars)\u001b[39;00m\n\u001b[1;32m    427\u001b[0m     \u001b[39m# use broadcasting to avoid allocating the full array\u001b[39;00m\n",
      "\u001b[0;31mValueError\u001b[0m: shape mismatch: objects cannot be broadcast to a single shape.  Mismatch is between arg 0 with shape (5,) and arg 1 with shape (5, 10)."
     ]
    },
    {
     "data": {
      "image/png": "[encoded data removed]",
      "text/plain": [
       "<Figure size 500x500 with 1 Axes>"
      ]
     },
     "metadata": {},
     "output_type": "display_data"
    }
   ],
   "source": [
    "# TODO: Derive the rating_distribution and plot it\n",
    "rating_distribution = df.groupby('rating').count().reset_index() \n",
    "fig, ax = plt.subplots(1, 1, figsize=(5, 5))\n",
    "# You can swap the color used with the defined constants at the top of the notebook\n",
    "ax.bar(x=rating_distribution.index, height=rating_distribution.values, color=GREEN)"
   ]
  },
  {
   "cell_type": "code",
   "execution_count": null,
   "metadata": {},
   "outputs": [],
   "source": [
    "def labeling_function(row):\n",
    "    \"\"\"\n",
    "    A function to derive labels from the user's review data.\n",
    "    This could use many variables, or just one.\n",
    "    In supervised learning scenarios, this is a very important part of determining what the machine learns!\n",
    "\n",
    "    A subset of variables in the e-commerce fashion review dataset to consider for labels you could use in ML tasks include:\n",
    "        # rating: Positive Ordinal Integer variable for the product score granted by the customer from 1 Worst, to 5 Best.\n",
    "        # recommended_ind: Binary variable stating where the customer recommends the product where 1 is recommended, 0 is not recommended.\n",
    "        # positive_feedback_count: Positive Integer documenting the number of other customers who found this review positive.\n",
    "\n",
    "    In this case, we are doing sentiment analysis.\n",
    "    To keep things simple, we use the rating only, and return a binary positive or negative sentiment score based on an arbitrarty cutoff.\n",
    "    \"\"\"\n",
    "    # TODO: Add your logic for the labelling function here\n",
    "    # It is up to you on what value to choose as the cut off point for the postive class\n",
    "    # A good value to start would be 4\n",
    "    # This function should return either a 0 or 1 depending on the rating of a particular row\n",
    "    return\n",
    "\n",
    "\n",
    "# final features and labels\n",
    "_has_review_df = df[df[\"review_text\"] != \"nan\"]\n",
    "reviews = _has_review_df[\"review_text\"]\n",
    "labels = _has_review_df.apply(labeling_function, axis=1)\n",
    "has_review_df = pd.DataFrame({\"label\": labels, **_has_review_df})\n",
    "del _has_review_df\n",
    "\n",
    "# a few checks\n",
    "assert (\n",
    "    labels.shape == reviews.shape\n",
    "), \"Labels and reviews should be equal shape vectors!\"\n",
    "assert (\n",
    "    not sum([1 if r == \"nan\" else 0 for r in reviews]) > 0\n",
    "), \"There are `nan` values in the feature set!\""
   ]
  },
  {
   "cell_type": "markdown",
   "metadata": {},
   "source": [
    "#### What percentage of points does your algorithm label with positive sentiment?"
   ]
  },
  {
   "cell_type": "code",
   "execution_count": null,
   "metadata": {},
   "outputs": [],
   "source": [
    "pct_positive_sentiment = labels.sum() / labels.shape[0]\n",
    "print(f\"{round(100*pct_positive_sentiment,3)}% of the labels have positive sentiment.\")"
   ]
  },
  {
   "cell_type": "markdown",
   "metadata": {},
   "source": [
    "### Let us try to visualise the data that we just labeled depending on the rating. \n",
    "\n",
    "In a real world project, iterating at this point is crucial. You need to look through the way your data is labeled, and ensure it is aligned with your intuitive understanding and objectives of the algorithm. There are also automated tools to aid your label cleaning operations, such as [Cleanlab](https://github.com/cleanlab/cleanlab).  "
   ]
  },
  {
   "cell_type": "code",
   "execution_count": null,
   "metadata": {},
   "outputs": [],
   "source": [
    "# params\n",
    "positive_color = \"green\"\n",
    "negative_color = \"red\"\n",
    "N = 10\n",
    "\n",
    "# fetch subset of data\n",
    "idxs = np.random.choice(reviews.index, 10, replace=False)\n",
    "_labels_subset = labels[idxs]\n",
    "_reviews_subset = reviews[idxs]\n",
    "\n",
    "# print each sample and color the text by sentiment\n",
    "for label, review in zip(_labels_subset, _reviews_subset):\n",
    "    color = negative_color if label == 0 else positive_color\n",
    "    print(colored(review, color), end=\"\\n\\n\")\n",
    "\n",
    "# in a real world project, iterating at this point is crucial.\n",
    "# you need to look through the way your data is labeled, and ensure it is aligned with your intuitive understanding and objectives of the algorithm.\n",
    "# there are also automated tools to aid your label cleaning operations, such as: https://github.com/cleanlab/cleanlab"
   ]
  },
  {
   "cell_type": "markdown",
   "metadata": {},
   "source": [
    "### What do you think about the text and their corresponding labels? \n",
    "- Do you think the labels fit the text? \n",
    "- If not what do you think we can do to fix it?"
   ]
  },
  {
   "cell_type": "markdown",
   "metadata": {},
   "source": [
    "### Filtering Stop Words\n",
    "In this part we will be filtering the stop words from the reviews. We remove stopwords in NLP datasets because there are words that do not carry much meaning on their own, and their presence can add noise to the analysis. These words are common and frequently occurring words such as \"a\", \"an\", \"the\", \"of\", and \"and\". \n",
    "\n",
    "Removing stopwords can improve the accuracy and efficiency of natural language processing tasks, such as sentiment analysis or topic modeling, by reducing the dimensionality of the data and increasing the signal-to-noise ratio. By removing these uninformative words, the resulting dataset may contain more meaningful information that can be used for analysis."
   ]
  },
  {
   "cell_type": "code",
   "execution_count": null,
   "metadata": {},
   "outputs": [],
   "source": [
    "nltk.download(\"stopwords\")\n",
    "stopwords = list(nltk.corpus.stopwords.words(\"english\"))\n",
    "non_stopwords = []\n",
    "for review in reviews:\n",
    "    for word in review.split():\n",
    "        word = word.translate(str.maketrans(\"\", \"\", string.punctuation))\n",
    "        if word == \"\":\n",
    "            continue\n",
    "        if not word.lower() in stopwords:\n",
    "            non_stopwords.append(word)"
   ]
  },
  {
   "cell_type": "markdown",
   "metadata": {},
   "source": [
    "### Find the K most common words"
   ]
  },
  {
   "cell_type": "code",
   "execution_count": null,
   "metadata": {},
   "outputs": [],
   "source": [
    "K = 25\n",
    "words, counts = zip(*Counter(non_stopwords).most_common(K))"
   ]
  },
  {
   "cell_type": "code",
   "execution_count": null,
   "metadata": {},
   "outputs": [],
   "source": [
    "fig, ax = plt.subplots(1, 1, figsize=(12, 5))\n",
    "plt.xticks(rotation=55)\n",
    "ax.bar(x=words, height=counts, color=GREEN)"
   ]
  },
  {
   "cell_type": "markdown",
   "metadata": {},
   "source": [
    "### What do the other features in the data look like?"
   ]
  },
  {
   "cell_type": "code",
   "execution_count": null,
   "metadata": {},
   "outputs": [],
   "source": [
    "sns.pairplot(data=has_review_df, hue=\"label\", corner=True, palette=sns_palette)"
   ]
  },
  {
   "cell_type": "markdown",
   "metadata": {},
   "source": [
    "## Task 2: Scoping Out a Machine Learning Project\n",
    "\n",
    "As ModaMetric's newly onboarded data scientist, you're entrusted with an exciting challenge. The data science team, still in its infancy, has primarily focused on metrics and analytics that provide surface-level insights. They've yet to delve into the rich, unstructured data residing in customer reviews. And that's where you step in. Your job is to design and implement a machine learning pipeline using Metaflow capable of performing sentiment analysis on the customer reviews.\n",
    "\n",
    "As a Data Scientist, you know that a successful project requires not only technical skills but also effective project management. In this task, you will take on the role of a Data Scientist tasked with leading the development of a sentiment analysis classifier. You will be responsible for planning and executing the project, ensuring that it aligns with business goals, stays within scope, and delivers value to stakeholders.\n",
    "\n",
    "To do this, you will create a one-page document that outlines the business value of the project, its scope, how to measure and monitor success, and when to quit. This task is designed to challenge you to think holistically about the project, and to consider not only the technical details but also the broader context in which the project is situated. Good luck!\n",
    "\n",
    "Suggestion: Spend 1-2 hours on this section."
   ]
  },
  {
   "cell_type": "markdown",
   "metadata": {},
   "source": [
    "Fill in the section below with your answers!\n",
    "\n",
    "### 1. The business value\n",
    "\n",
    "### 2. The scope\n",
    "\n",
    "### 3. How to measure success\n",
    "\n",
    "### 4. How to monitor success"
   ]
  },
  {
   "cell_type": "markdown",
   "metadata": {},
   "source": [
    "### Great job completing Task 2! \n",
    "\n",
    "Why do you think it is important to create a one-page document prior to beginning work on the project?"
   ]
  },
  {
   "cell_type": "markdown",
   "metadata": {},
   "source": [
    "## Task 3: Baseline Machine Learning Flow\n",
    "\n",
    "Finally, you'll develop a baseline model. This initial model, while simple, is crucial as it provides a benchmark for later, more complex models. You'll process the data, implement a basic machine learning algorithm, and evaluate its performance.\n",
    "\n",
    "Throughout this journey, you're not just a data scientist - you're a trailblazer helping ModaMetric navigate the seas of unstructured data. Ready to dive in? \n",
    "\n",
    "A basic baseline in a machine learning model is the simplest possible model that can be used to make predictions on the dataset. The basic baseline can be as simple as predicting the most frequent class for a classification problem or the mean value of the target variable for a regression problem. The purpose of establishing a baseline is to provide a benchmark for evaluating the performance of more complex models. A model that cannot outperform the basic baseline is considered to be useless and should not be used in practice.\n",
    "\n",
    "Here you will need to convert the code from above that was used to perform preprocessing and EDA on the dataset and create a Flow to run in order to train a baseline model. \n",
    "\n",
    "**NOTE:** It is important to realise that this is being run as a separate file and therefore re-using functions from above will not work. \n",
    "\n",
    "Suggestion: Spend 2-4 hours on this section. Rememeber that the more organized your earlier work is, the easier it is to write flows!"
   ]
  },
  {
   "cell_type": "code",
   "execution_count": null,
   "metadata": {},
   "outputs": [],
   "source": [
    "%%writefile baseline_flow.py\n",
    "from metaflow import (\n",
    "    FlowSpec,\n",
    "    step,\n",
    "    Flow,\n",
    "    current,\n",
    "    Parameter,\n",
    "    IncludeFile,\n",
    "    card,\n",
    "    current,\n",
    ")\n",
    "from metaflow.cards import Table, Markdown, Artifact\n",
    "\n",
    "# TODO move your labeling function from earlier in the notebook here\n",
    "labeling_function = lambda row: 0\n",
    "\n",
    "\n",
    "class BaselineNLPFlow(FlowSpec):\n",
    "    # We can define input parameters to a Flow using Parameters\n",
    "    # More info can be found here https://docs.metaflow.org/metaflow/basics#how-to-define-parameters-for-flows\n",
    "    split_size = Parameter(\"split-sz\", default=0.2)\n",
    "    # In order to use a file as an input parameter for a particular Flow we can use IncludeFile\n",
    "    # More information can be found here https://docs.metaflow.org/api/flowspec#includefile\n",
    "    data = IncludeFile(\"data\", default=\"../data/Womens Clothing E-Commerce Reviews.csv\")\n",
    "\n",
    "    @step\n",
    "    def start(self):\n",
    "        # Step-level dependencies are loaded within a Step, instead of loading them\n",
    "        # from the top of the file. This helps us isolate dependencies in a tight scope.\n",
    "        import pandas as pd\n",
    "        import io\n",
    "        from sklearn.model_selection import train_test_split\n",
    "\n",
    "        # load dataset packaged with the flow.\n",
    "        # this technique is convenient when working with small datasets that need to move to remove tasks.\n",
    "        df = pd.read_csv(io.StringIO(self.data))\n",
    "\n",
    "        # filter down to reviews and labels\n",
    "        df.columns = [\"_\".join(name.lower().strip().split()) for name in df.columns]\n",
    "        df[\"review_text\"] = df[\"review_text\"].astype(\"str\")\n",
    "        _has_review_df = df[df[\"review_text\"] != \"nan\"]\n",
    "        reviews = _has_review_df[\"review_text\"]\n",
    "        labels = _has_review_df.apply(labeling_function, axis=1)\n",
    "        # Storing the Dataframe as an instance variable of the class\n",
    "        # allows us to share it across all Steps\n",
    "        # self.df is referred to as a Data Artifact now\n",
    "        # You can read more about it here https://docs.metaflow.org/metaflow/basics#artifacts\n",
    "        self.df = pd.DataFrame({\"label\": labels, **_has_review_df})\n",
    "        del df\n",
    "        del _has_review_df\n",
    "\n",
    "        # split the data 80/20, or by using the flow's split-sz CLI argument\n",
    "        _df = pd.DataFrame({\"review\": reviews, \"label\": labels})\n",
    "        self.traindf, self.valdf = train_test_split(_df, test_size=self.split_size)\n",
    "        print(f\"num of rows in train set: {self.traindf.shape[0]}\")\n",
    "        print(f\"num of rows in validation set: {self.valdf.shape[0]}\")\n",
    "\n",
    "        self.next(self.baseline)\n",
    "\n",
    "    @step\n",
    "    def baseline(self):\n",
    "        \"Compute the baseline\"\n",
    "\n",
    "        ### TODO: Fit and score a baseline model on the data, log the acc and rocauc as artifacts.\n",
    "        self.base_acc = 0.0\n",
    "        self.base_rocauc = 0.0\n",
    "\n",
    "        self.next(self.end)\n",
    "\n",
    "    @card(\n",
    "        type=\"corise\"\n",
    "    )  # TODO: after you get the flow working, chain link on the left side nav to open your card!\n",
    "    @step\n",
    "    def end(self):\n",
    "        msg = \"Baseline Accuracy: {}\\nBaseline AUC: {}\"\n",
    "        print(msg.format(round(self.base_acc, 3), round(self.base_rocauc, 3)))\n",
    "\n",
    "        current.card.append(Markdown(\"# Womens Clothing Review Results\"))\n",
    "        current.card.append(Markdown(\"## Overall Accuracy\"))\n",
    "        current.card.append(Artifact(self.base_acc))\n",
    "\n",
    "        current.card.append(Markdown(\"## Examples of False Positives\"))\n",
    "        # TODO: compute the false positive predictions where the baseline is 1 and the valdf label is 0.\n",
    "        # TODO: display the false_positives dataframe using metaflow.cards\n",
    "        # Documentation: https://docs.metaflow.org/api/cards#table\n",
    "\n",
    "        current.card.append(Markdown(\"## Examples of False Negatives\"))\n",
    "        # TODO: compute the false positive predictions where the baseline is 0 and the valdf label is 1.\n",
    "        # TODO: display the false_negatives dataframe using metaflow.cards\n",
    "\n",
    "\n",
    "if __name__ == \"__main__\":\n",
    "    BaselineNLPFlow()"
   ]
  },
  {
   "cell_type": "code",
   "execution_count": null,
   "metadata": {},
   "outputs": [],
   "source": [
    "! python baseline_flow.py run"
   ]
  },
  {
   "cell_type": "markdown",
   "metadata": {},
   "source": [
    "### Great job completing Task 3!\n",
    "\n",
    "The project for Week 1 is completed but you are free to try out Task 4 below if you have the time to do so! Remember that completing Task 4 is not a requirement and completely optional. So far we have got you already building basic Machine Learning Pipelines uing Metaflow, what do you think about it so far?"
   ]
  },
  {
   "cell_type": "markdown",
   "metadata": {},
   "source": [
    "## Task 4: Venturing Beyond the Baseline - Creating a Good First Machine Learning Model (OPTIONAL)\n",
    "\n",
    "### The ModaMetric Challenge: Beyond the Baseline\n",
    "\n",
    "At ModaMetric, your initial explorations have been fruitful. You've established a baseline sentiment analysis model, and the team is abuzz with excitement. However, the baseline model is only the beginning. Your next mission is to create a more sophisticated model that outperforms the baseline.\n",
    "\n",
    "The eCommerce world moves at breakneck speed, and ModaMetric is no exception. Rapid iterations and quick feedback are the need of the hour. As you strive to improve the model, keep in mind the balance between complexity and practicality. More complex deep neural networks might offer higher accuracy, but they require GPUs for inference, which adds to the overhead. Simpler models, on the other hand, might have lower accuracy but can be deployed quickly and cost-effectively on CPUs.\n",
    "\n",
    "As you embark on this task, consider the following questions:\n",
    "\n",
    "1. Given the balance between accuracy and deployability, what model do you think is good enough to get the ball rolling at ModaMetric?\n",
    "2. Try to implement your choice in a new Metaflow Flow, `GoodFirstModelNLPFlow`.\n",
    "3. Can you confirm that `GoodFirstModelNLPFlow` performs better than `BaselineNLPFlow`? Metaflow's Client API can help you validate this. You can refer to the documentation [here](https://docs.metaflow.org/metaflow/client).\n",
    "4. Did `GoodFirstModelNLPFlow` outperform `BaselineNLPFlow`? If yes, why do you think it did? If not, what might be the reasons for not reaching the expected performance?\n",
    "5. Reflect on the importance of quick iterations in ML projects, especially in the context of ModaMetric's fast-paced environment.\n",
    "\n",
    "This optional task offers a chance to deepen your understanding of machine learning workflows, testing your ability to innovate and improvise in a real-world scenario. Remember, every step forward is a step towards ModaMetric's success!\n"
   ]
  },
  {
   "cell_type": "code",
   "execution_count": null,
   "metadata": {},
   "outputs": [],
   "source": []
  }
 ],
 "metadata": {
  "kernelspec": {
   "display_name": "Full Stack ML Corise",
   "language": "python",
   "name": "full-stack-metaflow-corise"
  },
  "language_info": {
   "codemirror_mode": {
    "name": "ipython",
    "version": 3
   },
   "file_extension": ".py",
   "mimetype": "text/x-python",
   "name": "python",
   "nbconvert_exporter": "python",
   "pygments_lexer": "ipython3",
   "version": "3.10.8"
  }
 },
 "nbformat": 4,
 "nbformat_minor": 2
}
